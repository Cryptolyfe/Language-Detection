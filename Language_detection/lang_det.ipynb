{
 "cells": [
  {
   "cell_type": "code",
   "execution_count": 1,
   "id": "452be8c3-e82f-46ff-8578-28266bd22dc5",
   "metadata": {},
   "outputs": [],
   "source": [
    "import string\n",
    "import pandas as pd\n",
    "import re\n",
    "import numpy as np\n",
    "import matplotlib.pyplot as plt\n",
    "import seaborn as sns"
   ]
  },
  {
   "cell_type": "code",
   "execution_count": 2,
   "id": "60644db3-bf31-47a8-bf0c-a407e01c9efc",
   "metadata": {},
   "outputs": [],
   "source": [
    "df = pd.read_csv('Language Detection.csv')"
   ]
  },
  {
   "cell_type": "code",
   "execution_count": 3,
   "id": "6de83f24-abe9-46c1-89c3-205c90b8f4cf",
   "metadata": {},
   "outputs": [
    {
     "data": {
      "text/html": [
       "<div>\n",
       "<style scoped>\n",
       "    .dataframe tbody tr th:only-of-type {\n",
       "        vertical-align: middle;\n",
       "    }\n",
       "\n",
       "    .dataframe tbody tr th {\n",
       "        vertical-align: top;\n",
       "    }\n",
       "\n",
       "    .dataframe thead th {\n",
       "        text-align: right;\n",
       "    }\n",
       "</style>\n",
       "<table border=\"1\" class=\"dataframe\">\n",
       "  <thead>\n",
       "    <tr style=\"text-align: right;\">\n",
       "      <th></th>\n",
       "      <th>Text</th>\n",
       "      <th>Language</th>\n",
       "    </tr>\n",
       "  </thead>\n",
       "  <tbody>\n",
       "    <tr>\n",
       "      <th>0</th>\n",
       "      <td>Nature, in the broadest sense, is the natural...</td>\n",
       "      <td>English</td>\n",
       "    </tr>\n",
       "    <tr>\n",
       "      <th>1</th>\n",
       "      <td>\"Nature\" can refer to the phenomena of the phy...</td>\n",
       "      <td>English</td>\n",
       "    </tr>\n",
       "    <tr>\n",
       "      <th>2</th>\n",
       "      <td>The study of nature is a large, if not the onl...</td>\n",
       "      <td>English</td>\n",
       "    </tr>\n",
       "    <tr>\n",
       "      <th>3</th>\n",
       "      <td>Although humans are part of nature, human acti...</td>\n",
       "      <td>English</td>\n",
       "    </tr>\n",
       "    <tr>\n",
       "      <th>4</th>\n",
       "      <td>[1] The word nature is borrowed from the Old F...</td>\n",
       "      <td>English</td>\n",
       "    </tr>\n",
       "  </tbody>\n",
       "</table>\n",
       "</div>"
      ],
      "text/plain": [
       "                                                Text Language\n",
       "0   Nature, in the broadest sense, is the natural...  English\n",
       "1  \"Nature\" can refer to the phenomena of the phy...  English\n",
       "2  The study of nature is a large, if not the onl...  English\n",
       "3  Although humans are part of nature, human acti...  English\n",
       "4  [1] The word nature is borrowed from the Old F...  English"
      ]
     },
     "execution_count": 3,
     "metadata": {},
     "output_type": "execute_result"
    }
   ],
   "source": [
    "df.head()"
   ]
  },
  {
   "cell_type": "code",
   "execution_count": 4,
   "id": "a86c7926-9958-4a1b-8b0e-2ed3de9220f8",
   "metadata": {},
   "outputs": [
    {
     "data": {
      "text/plain": [
       "'!\"#$%&\\'()*+,-./:;<=>?@[\\\\]^_`{|}~'"
      ]
     },
     "execution_count": 4,
     "metadata": {},
     "output_type": "execute_result"
    }
   ],
   "source": [
    "string.punctuation"
   ]
  },
  {
   "cell_type": "code",
   "execution_count": 5,
   "id": "6e5d2391-689b-4437-8aa1-32445cb09e5f",
   "metadata": {},
   "outputs": [
    {
     "data": {
      "text/plain": [
       "'0123456789'"
      ]
     },
     "execution_count": 5,
     "metadata": {},
     "output_type": "execute_result"
    }
   ],
   "source": [
    "string.digits"
   ]
  },
  {
   "cell_type": "code",
   "execution_count": 6,
   "id": "a174c069-a029-4b5c-8cb6-883a102acd71",
   "metadata": {},
   "outputs": [
    {
     "data": {
      "text/plain": [
       "' \\t\\n\\r\\x0b\\x0c'"
      ]
     },
     "execution_count": 6,
     "metadata": {},
     "output_type": "execute_result"
    }
   ],
   "source": [
    "string.whitespace"
   ]
  },
  {
   "cell_type": "code",
   "execution_count": 7,
   "id": "e775db5e-8243-4949-b896-16071f9e29c4",
   "metadata": {},
   "outputs": [
    {
     "data": {
      "text/plain": [
       "'0123456789abcdefABCDEF'"
      ]
     },
     "execution_count": 7,
     "metadata": {},
     "output_type": "execute_result"
    }
   ],
   "source": [
    "string.hexdigits"
   ]
  },
  {
   "cell_type": "code",
   "execution_count": 8,
   "id": "63d2aeb6-80be-41cb-9041-5ab0f62132fe",
   "metadata": {},
   "outputs": [
    {
     "data": {
      "text/plain": [
       "'0123456789abcdefghijklmnopqrstuvwxyzABCDEFGHIJKLMNOPQRSTUVWXYZ!\"#$%&\\'()*+,-./:;<=>?@[\\\\]^_`{|}~ \\t\\n\\r\\x0b\\x0c'"
      ]
     },
     "execution_count": 8,
     "metadata": {},
     "output_type": "execute_result"
    }
   ],
   "source": [
    "string.printable"
   ]
  },
  {
   "cell_type": "code",
   "execution_count": 9,
   "id": "59cac923-f300-4742-811f-6959f18d32dc",
   "metadata": {},
   "outputs": [],
   "source": [
    "def remove_pun(text):\n",
    "    for pun in string.punctuation:\n",
    "        text = text.replace(pun,\"\")\n",
    "    text = text.lower()\n",
    "    return(text)"
   ]
  },
  {
   "cell_type": "code",
   "execution_count": 10,
   "id": "b996600a-4449-476e-8b0e-19a4af275bb6",
   "metadata": {},
   "outputs": [
    {
     "data": {
      "text/plain": [
       "'nature can refer to the hehemena of the phy'"
      ]
     },
     "execution_count": 10,
     "metadata": {},
     "output_type": "execute_result"
    }
   ],
   "source": [
    "remove_pun('\"Nature\" CAN! reFer to the Hehemena:::::: of the phy.')"
   ]
  },
  {
   "cell_type": "code",
   "execution_count": 11,
   "id": "a148c73d-b0a0-42c0-a541-3c5453c4ea46",
   "metadata": {},
   "outputs": [],
   "source": [
    "df['Text'] = df['Text'].apply(remove_pun)"
   ]
  },
  {
   "cell_type": "code",
   "execution_count": 12,
   "id": "7d21185d-a7b8-4cbf-acff-888259806d3a",
   "metadata": {},
   "outputs": [
    {
     "data": {
      "text/plain": [
       "<bound method NDFrame.head of                                                     Text Language\n",
       "0       nature in the broadest sense is the natural p...  English\n",
       "1      nature can refer to the phenomena of the physi...  English\n",
       "2      the study of nature is a large if not the only...  English\n",
       "3      although humans are part of nature human activ...  English\n",
       "4      1 the word nature is borrowed from the old fre...  English\n",
       "...                                                  ...      ...\n",
       "10332  ನಿಮ್ಮ ತಪ್ಪು ಏನು ಬಂದಿದೆಯೆಂದರೆ ಆ ದಿನದಿಂದ ನಿಮಗೆ ಒ...  Kannada\n",
       "10333  ನಾರ್ಸಿಸಾ ತಾನು ಮೊದಲಿಗೆ ಹೆಣಗಾಡುತ್ತಿದ್ದ ಮಾರ್ಗಗಳನ್...  Kannada\n",
       "10334  ಹೇಗೆ  ನಾರ್ಸಿಸಿಸಮ್ ಈಗ ಮರಿಯನ್ ಅವರಿಗೆ ಸಂಭವಿಸಿದ ಎಲ...  Kannada\n",
       "10335  ಅವಳು ಈಗ ಹೆಚ್ಚು ಚಿನ್ನದ ಬ್ರೆಡ್ ಬಯಸುವುದಿಲ್ಲ ಎಂದು ...  Kannada\n",
       "10336  ಟೆರ್ರಿ ನೀವು ನಿಜವಾಗಿಯೂ ಆ ದೇವದೂತನಂತೆ ಸ್ವಲ್ಪ ಕಾಣು...  Kannada\n",
       "\n",
       "[10337 rows x 2 columns]>"
      ]
     },
     "execution_count": 12,
     "metadata": {},
     "output_type": "execute_result"
    }
   ],
   "source": [
    "df.head"
   ]
  },
  {
   "cell_type": "code",
   "execution_count": 13,
   "id": "e3eea680-a716-457b-a3a0-17eadc6a0f27",
   "metadata": {},
   "outputs": [],
   "source": [
    "from sklearn.model_selection import train_test_split"
   ]
  },
  {
   "cell_type": "code",
   "execution_count": 14,
   "id": "6f33d237-432c-44bf-8723-078044b7aaad",
   "metadata": {},
   "outputs": [],
   "source": [
    "X = df.iloc[:,0]\n",
    "Y = df.iloc[:,1]"
   ]
  },
  {
   "cell_type": "code",
   "execution_count": 15,
   "id": "05a05cef-5596-468f-8235-f3886585cca0",
   "metadata": {},
   "outputs": [
    {
     "data": {
      "text/plain": [
       "0         nature in the broadest sense is the natural p...\n",
       "1        nature can refer to the phenomena of the physi...\n",
       "2        the study of nature is a large if not the only...\n",
       "3        although humans are part of nature human activ...\n",
       "4        1 the word nature is borrowed from the old fre...\n",
       "                               ...                        \n",
       "10332    ನಿಮ್ಮ ತಪ್ಪು ಏನು ಬಂದಿದೆಯೆಂದರೆ ಆ ದಿನದಿಂದ ನಿಮಗೆ ಒ...\n",
       "10333    ನಾರ್ಸಿಸಾ ತಾನು ಮೊದಲಿಗೆ ಹೆಣಗಾಡುತ್ತಿದ್ದ ಮಾರ್ಗಗಳನ್...\n",
       "10334    ಹೇಗೆ  ನಾರ್ಸಿಸಿಸಮ್ ಈಗ ಮರಿಯನ್ ಅವರಿಗೆ ಸಂಭವಿಸಿದ ಎಲ...\n",
       "10335    ಅವಳು ಈಗ ಹೆಚ್ಚು ಚಿನ್ನದ ಬ್ರೆಡ್ ಬಯಸುವುದಿಲ್ಲ ಎಂದು ...\n",
       "10336    ಟೆರ್ರಿ ನೀವು ನಿಜವಾಗಿಯೂ ಆ ದೇವದೂತನಂತೆ ಸ್ವಲ್ಪ ಕಾಣು...\n",
       "Name: Text, Length: 10337, dtype: object"
      ]
     },
     "execution_count": 15,
     "metadata": {},
     "output_type": "execute_result"
    }
   ],
   "source": [
    "X"
   ]
  },
  {
   "cell_type": "code",
   "execution_count": 16,
   "id": "ee4c77cc-2dfb-44cc-9647-2115462ca5a0",
   "metadata": {},
   "outputs": [
    {
     "data": {
      "text/plain": [
       "0        English\n",
       "1        English\n",
       "2        English\n",
       "3        English\n",
       "4        English\n",
       "          ...   \n",
       "10332    Kannada\n",
       "10333    Kannada\n",
       "10334    Kannada\n",
       "10335    Kannada\n",
       "10336    Kannada\n",
       "Name: Language, Length: 10337, dtype: object"
      ]
     },
     "execution_count": 16,
     "metadata": {},
     "output_type": "execute_result"
    }
   ],
   "source": [
    "Y"
   ]
  },
  {
   "cell_type": "code",
   "execution_count": 17,
   "id": "112c37ee-3ef3-4beb-acca-60be79429cbb",
   "metadata": {},
   "outputs": [],
   "source": [
    "X_train, X_test, Y_train, Y_test = train_test_split(X, Y, test_size = .2)"
   ]
  },
  {
   "cell_type": "code",
   "execution_count": 18,
   "id": "1b0618d1-4dd9-43da-aaad-a0fa21b7cf51",
   "metadata": {},
   "outputs": [
    {
     "data": {
      "text/plain": [
       "3806     en 2015 wikipédia reçoit le prix érasme doté d...\n",
       "2912     muito suave tão inteligente palavra número qua...\n",
       "8202                               elbette hiç sorun değil\n",
       "3123                       você está absolutamente correto\n",
       "837      38 the data is known as training data and cons...\n",
       "                               ...                        \n",
       "4728                        ik kan je niet genoeg bedanken\n",
       "3060                                        eu sinto muito\n",
       "7803     narcis a casa in carrozza iniziò a riflettere ...\n",
       "10236                                               ಅನುಮತಿ\n",
       "8115                                  merhaba ve hoşgeldin\n",
       "Name: Text, Length: 8269, dtype: object"
      ]
     },
     "execution_count": 18,
     "metadata": {},
     "output_type": "execute_result"
    }
   ],
   "source": [
    "X_train"
   ]
  },
  {
   "cell_type": "code",
   "execution_count": 19,
   "id": "1dfffe2b-9f92-424b-99c9-19efc62dc2c2",
   "metadata": {},
   "outputs": [
    {
     "data": {
      "text/plain": [
       "5316    ¿qué has estado haciendo antes para criarlos s...\n",
       "5862                          αυτή είναι μια καλή ερώτηση\n",
       "4549                    het is alsof het er niet toe doet\n",
       "7922    13 2 yıl 8 ay 17 gün aradan sonra 992 gün 15 o...\n",
       "6548                          я не мог согласиться с этим\n",
       "                              ...                        \n",
       "3684                           de la wikimedia foundation\n",
       "7821    kaynak belirtilmeli verilen bilgiler bazen ona...\n",
       "1966    ഇതെല്ലാം നിങ്ങൾ കഴിക്കേണ്ടതുണ്ട് നിങ്ങൾക്ക് ഫാ...\n",
       "1972    അവൻ സുന്ദരനായിരുന്നു അവൻ എന്നെ ഒട്ടും ശ്രദ്ധിച...\n",
       "4147                                      aller de lavant\n",
       "Name: Text, Length: 2068, dtype: object"
      ]
     },
     "execution_count": 19,
     "metadata": {},
     "output_type": "execute_result"
    }
   ],
   "source": [
    "X_test"
   ]
  },
  {
   "cell_type": "code",
   "execution_count": 20,
   "id": "dc807b9c-6759-4c47-8352-549a57f002d5",
   "metadata": {},
   "outputs": [
    {
     "data": {
      "text/plain": [
       "3806         French\n",
       "2912     Portugeese\n",
       "8202        Turkish\n",
       "3123     Portugeese\n",
       "837         English\n",
       "            ...    \n",
       "4728          Dutch\n",
       "3060     Portugeese\n",
       "7803        Italian\n",
       "10236       Kannada\n",
       "8115        Turkish\n",
       "Name: Language, Length: 8269, dtype: object"
      ]
     },
     "execution_count": 20,
     "metadata": {},
     "output_type": "execute_result"
    }
   ],
   "source": [
    "Y_train"
   ]
  },
  {
   "cell_type": "code",
   "execution_count": 21,
   "id": "57060ed8-014a-4fa5-9e7b-2e1f3fdb0d26",
   "metadata": {},
   "outputs": [
    {
     "data": {
      "text/plain": [
       "5316      Spanish\n",
       "5862        Greek\n",
       "4549        Dutch\n",
       "7922      Turkish\n",
       "6548      Russian\n",
       "          ...    \n",
       "3684       French\n",
       "7821      Turkish\n",
       "1966    Malayalam\n",
       "1972    Malayalam\n",
       "4147       French\n",
       "Name: Language, Length: 2068, dtype: object"
      ]
     },
     "execution_count": 21,
     "metadata": {},
     "output_type": "execute_result"
    }
   ],
   "source": [
    "Y_test"
   ]
  },
  {
   "cell_type": "code",
   "execution_count": 22,
   "id": "b089717e-5054-4dde-96da-99a803c98e80",
   "metadata": {},
   "outputs": [],
   "source": [
    "from sklearn import feature_extraction"
   ]
  },
  {
   "cell_type": "code",
   "execution_count": 23,
   "id": "aeee6c48-171f-4c2b-973e-f31998390968",
   "metadata": {},
   "outputs": [],
   "source": [
    "vec = feature_extraction.text.TfidfVectorizer(ngram_range=(1,2), analyzer='char')"
   ]
  },
  {
   "cell_type": "code",
   "execution_count": 24,
   "id": "a92bebd7-3719-42d0-b3de-abaa57a9a063",
   "metadata": {},
   "outputs": [],
   "source": [
    "from sklearn import pipeline\n",
    "from sklearn import linear_model"
   ]
  },
  {
   "cell_type": "code",
   "execution_count": 25,
   "id": "e061e139-47b6-4275-b68b-11ac29ccb0a6",
   "metadata": {},
   "outputs": [],
   "source": [
    "model_pipe=pipeline.Pipeline([('vec', vec),('clf',linear_model.LogisticRegression())])"
   ]
  },
  {
   "cell_type": "code",
   "execution_count": 26,
   "id": "14665650-c8b5-444d-b103-31c3d0fcc45f",
   "metadata": {},
   "outputs": [
    {
     "data": {
      "text/plain": [
       "Pipeline(steps=[('vec', TfidfVectorizer(analyzer='char', ngram_range=(1, 2))),\n",
       "                ('clf', LogisticRegression())])"
      ]
     },
     "execution_count": 26,
     "metadata": {},
     "output_type": "execute_result"
    }
   ],
   "source": [
    "model_pipe"
   ]
  },
  {
   "cell_type": "code",
   "execution_count": 27,
   "id": "96f20165-2c5a-4386-9aac-03a8e4e25e01",
   "metadata": {},
   "outputs": [
    {
     "data": {
      "text/plain": [
       "Pipeline(steps=[('vec', TfidfVectorizer(analyzer='char', ngram_range=(1, 2))),\n",
       "                ('clf', LogisticRegression())])"
      ]
     },
     "execution_count": 27,
     "metadata": {},
     "output_type": "execute_result"
    }
   ],
   "source": [
    "model_pipe.fit(X_train, Y_train)"
   ]
  },
  {
   "cell_type": "code",
   "execution_count": 28,
   "id": "800c1364-57da-4bd0-b005-ca5f65396dfc",
   "metadata": {},
   "outputs": [],
   "source": [
    "predict_val = model_pipe.predict(X_test)"
   ]
  },
  {
   "cell_type": "code",
   "execution_count": 29,
   "id": "0d688cbc-c3fa-44e2-afbe-a7803693fe16",
   "metadata": {},
   "outputs": [],
   "source": [
    "from sklearn import metrics "
   ]
  },
  {
   "cell_type": "code",
   "execution_count": 30,
   "id": "6d665a80-ccc5-4ad5-8a7f-551d23988f50",
   "metadata": {},
   "outputs": [
    {
     "data": {
      "text/plain": [
       "97.1953578336557"
      ]
     },
     "execution_count": 30,
     "metadata": {},
     "output_type": "execute_result"
    }
   ],
   "source": [
    "metrics.accuracy_score(Y_test, predict_val)*100"
   ]
  },
  {
   "cell_type": "code",
   "execution_count": 31,
   "id": "494027d6-7edd-4dfc-9e8c-54b69f66de43",
   "metadata": {},
   "outputs": [
    {
     "data": {
      "text/plain": [
       "array([[ 94,   0,   0,   0,   0,   0,   0,   0,   0,   0,   0,   0,   0,\n",
       "          0,   0,   0,   0],\n",
       "       [  0,  68,   0,   1,   0,   0,   0,   0,   0,   0,   0,   0,   0,\n",
       "          0,   2,   0,   0],\n",
       "       [  0,   0, 104,   4,   0,   2,   0,   0,   0,   0,   0,   1,   0,\n",
       "          0,   1,   0,   0],\n",
       "       [  0,   2,   0, 270,   1,   1,   0,   0,   1,   0,   0,   2,   0,\n",
       "          0,   0,   0,   0],\n",
       "       [  0,   1,   0,   1, 191,   1,   0,   0,   1,   0,   0,   2,   0,\n",
       "          0,   1,   0,   1],\n",
       "       [  0,   0,   1,   1,   0, 101,   0,   0,   0,   0,   0,   0,   0,\n",
       "          0,   2,   0,   1],\n",
       "       [  0,   0,   0,   0,   0,   0,  71,   0,   0,   0,   0,   0,   0,\n",
       "          0,   0,   0,   0],\n",
       "       [  0,   0,   0,   0,   0,   0,   0,  10,   0,   0,   0,   0,   0,\n",
       "          0,   0,   0,   0],\n",
       "       [  0,   2,   0,   1,   0,   0,   0,   0, 119,   0,   0,   2,   0,\n",
       "          3,   0,   0,   0],\n",
       "       [  0,   0,   0,   0,   0,   0,   0,   0,   0,  87,   0,   0,   0,\n",
       "          0,   0,   0,   0],\n",
       "       [  0,   0,   0,   1,   0,   0,   0,   0,   0,   0, 116,   0,   0,\n",
       "          0,   0,   0,   0],\n",
       "       [  0,   0,   0,   1,   0,   0,   0,   0,   0,   0,   0, 140,   0,\n",
       "          5,   0,   0,   0],\n",
       "       [  0,   0,   0,   0,   0,   0,   0,   0,   0,   0,   0,   0, 142,\n",
       "          0,   0,   0,   0],\n",
       "       [  0,   0,   0,   0,   0,   0,   0,   0,   2,   0,   0,   1,   0,\n",
       "        169,   0,   0,   0],\n",
       "       [  0,   2,   0,   2,   2,   0,   0,   0,   1,   0,   0,   0,   0,\n",
       "          0, 132,   0,   0],\n",
       "       [  0,   0,   0,   0,   0,   0,   0,   0,   0,   0,   0,   0,   0,\n",
       "          0,   0,  97,   0],\n",
       "       [  0,   0,   0,   1,   0,   0,   0,   0,   0,   0,   0,   1,   0,\n",
       "          0,   0,   0,  99]])"
      ]
     },
     "execution_count": 31,
     "metadata": {},
     "output_type": "execute_result"
    }
   ],
   "source": [
    "metrics.confusion_matrix(Y_test, predict_val)"
   ]
  },
  {
   "cell_type": "code",
   "execution_count": 32,
   "id": "2e8880f6-fbbb-4669-ae7c-d34f8c1d8810",
   "metadata": {},
   "outputs": [
    {
     "data": {
      "text/plain": [
       "array(['English'], dtype=object)"
      ]
     },
     "execution_count": 32,
     "metadata": {},
     "output_type": "execute_result"
    }
   ],
   "source": [
    "model_pipe.predict(['my name is katie'])"
   ]
  },
  {
   "cell_type": "code",
   "execution_count": 33,
   "id": "641f2f10-e535-406d-b045-2171c5bf7f76",
   "metadata": {},
   "outputs": [],
   "source": [
    "import pickle"
   ]
  },
  {
   "cell_type": "code",
   "execution_count": 34,
   "id": "8b83b3be-bdc2-4a0a-a84c-80c6a9dba630",
   "metadata": {},
   "outputs": [],
   "source": [
    "new_file = open('model.pckl', 'wb')\n",
    "pickle.dump(model_pipe, new_file)\n",
    "new_file.close()"
   ]
  },
  {
   "cell_type": "code",
   "execution_count": 35,
   "id": "7abd537f-23f0-494d-afa5-155b6125e7ef",
   "metadata": {},
   "outputs": [
    {
     "name": "stdout",
     "output_type": "stream",
     "text": [
      "Language Detection.csv  app.py                  requirement.txt\n",
      "README.md               model.pckl\n",
      "Untitled.ipynb          model.pkl\n"
     ]
    }
   ],
   "source": [
    "ls"
   ]
  },
  {
   "cell_type": "code",
   "execution_count": 36,
   "id": "5e8799e8-99f3-4c72-9eeb-15ea59656eac",
   "metadata": {},
   "outputs": [],
   "source": [
    "from wordcloud import WordCloud\n"
   ]
  },
  {
   "cell_type": "code",
   "execution_count": 37,
   "id": "e489c133-47aa-418d-a9d4-f4ecfd2ed222",
   "metadata": {},
   "outputs": [
    {
     "name": "stdout",
     "output_type": "stream",
     "text": [
      "Requirement already satisfied: nltk in /Users/katie.kirby/opt/anaconda3/lib/python3.9/site-packages (3.7)\n",
      "Requirement already satisfied: click in /Users/katie.kirby/opt/anaconda3/lib/python3.9/site-packages (from nltk) (8.0.4)\n",
      "Requirement already satisfied: joblib in /Users/katie.kirby/opt/anaconda3/lib/python3.9/site-packages (from nltk) (1.1.0)\n",
      "Requirement already satisfied: regex>=2021.8.3 in /Users/katie.kirby/opt/anaconda3/lib/python3.9/site-packages (from nltk) (2022.3.15)\n",
      "Requirement already satisfied: tqdm in /Users/katie.kirby/opt/anaconda3/lib/python3.9/site-packages (from nltk) (4.64.0)\n"
     ]
    }
   ],
   "source": [
    "!pip install nltk"
   ]
  },
  {
   "cell_type": "code",
   "execution_count": 38,
   "id": "d94ab87a-e544-4c08-8840-0bab1a8d5e73",
   "metadata": {},
   "outputs": [],
   "source": [
    "import nltk\n",
    "import os\n",
    "import nltk.corpus"
   ]
  },
  {
   "cell_type": "code",
   "execution_count": 39,
   "id": "9fde07cf-86db-4600-b7ab-767531c0bc35",
   "metadata": {},
   "outputs": [],
   "source": [
    "from nltk.corpus import brown"
   ]
  },
  {
   "cell_type": "code",
   "execution_count": 40,
   "id": "91f72b85-f821-434c-88e0-f0a082a47991",
   "metadata": {},
   "outputs": [
    {
     "name": "stderr",
     "output_type": "stream",
     "text": [
      "[nltk_data] Downloading package brown to\n",
      "[nltk_data]     /Users/katie.kirby/nltk_data...\n",
      "[nltk_data]   Package brown is already up-to-date!\n"
     ]
    },
    {
     "data": {
      "text/plain": [
       "True"
      ]
     },
     "execution_count": 40,
     "metadata": {},
     "output_type": "execute_result"
    }
   ],
   "source": [
    "nltk.download('brown')"
   ]
  },
  {
   "cell_type": "code",
   "execution_count": 41,
   "id": "48606899-820f-41f9-9d36-bedbfffdc9b4",
   "metadata": {},
   "outputs": [
    {
     "data": {
      "text/plain": [
       "['The', 'Fulton', 'County', 'Grand', 'Jury', 'said', ...]"
      ]
     },
     "execution_count": 41,
     "metadata": {},
     "output_type": "execute_result"
    }
   ],
   "source": [
    "brown.words()"
   ]
  },
  {
   "cell_type": "code",
   "execution_count": 42,
   "id": "42e49322-a4dc-401a-bfd4-64a9da3fb403",
   "metadata": {},
   "outputs": [
    {
     "name": "stderr",
     "output_type": "stream",
     "text": [
      "[nltk_data] Downloading package shakespeare to\n",
      "[nltk_data]     /Users/katie.kirby/nltk_data...\n",
      "[nltk_data]   Package shakespeare is already up-to-date!\n"
     ]
    },
    {
     "data": {
      "text/plain": [
       "True"
      ]
     },
     "execution_count": 42,
     "metadata": {},
     "output_type": "execute_result"
    }
   ],
   "source": [
    "nltk.download('shakespeare')"
   ]
  },
  {
   "cell_type": "code",
   "execution_count": 43,
   "id": "1dcfc052-ad66-46ad-b5e3-660c96188e7e",
   "metadata": {},
   "outputs": [],
   "source": [
    "hamlet=nltk.corpus.gutenberg.words('shakespeare-hamlet.txt')"
   ]
  },
  {
   "cell_type": "raw",
   "id": "92933483-9017-4aed-927e-ee3c6450489e",
   "metadata": {},
   "source": [
    "hamlet"
   ]
  },
  {
   "cell_type": "code",
   "execution_count": 44,
   "id": "bd43ab86-3218-4066-9b31-5f3847b50cb9",
   "metadata": {},
   "outputs": [
    {
     "name": "stdout",
     "output_type": "stream",
     "text": [
      "[ The Tragedie of Hamlet by William Shakespeare 1599 ] Actus Primus . Scoena Prima . Enter Barnardo and Francisco two Centinels . Barnardo . Who ' s there ? Fran . Nay answer me : Stand & vnfold your selfe Bar . Long liue the King Fran . Barnardo ? Bar . He Fran . You come most carefully vpon your houre Bar . ' Tis now strook twelue , get thee to bed Francisco Fran . For this releefe much thankes : ' Tis bitter cold , And I am sicke at heart Barn . Haue you had quiet Guard ? Fran . Not a Mouse stirring Barn . Well , goodnight . If you do meet Horatio and Marcellus , the Riuals of my Watch , bid them make hast . Enter Horatio and Marcellus . Fran . I thinke I heare them . Stand : who ' s there ? Hor . Friends to this ground Mar . And Leige - men to the Dane Fran . Giue you good night Mar . O farwel honest Soldier , who hath relieu ' d you ? Fra . Barnardo ha ' s my place : giue you goodnight . Exit Fran . Mar . Holla Barnardo Bar . Say , what is Horatio there ? Hor . A peece of him Bar . Welcome Horatio , welcome good Marcellus Mar . What , ha ' s this thing appear ' d againe to night Bar . I haue seene nothing Mar . Horatio saies , ' tis but our Fantasie , And will not let beleefe take hold of him Touching this dreaded sight , twice seene of vs , Therefore I haue intreated him along With vs , to watch the minutes of this Night , That if againe this Apparition come , He may approue our eyes , and speake to it Hor . Tush , tush , ' twill not appeare Bar . Sit downe a - while , And let vs once againe assaile your eares , That are so fortified against our Story , What we two Nights haue seene Hor . Well , sit we downe , And let vs heare Barnardo speake of this Barn . Last night of all , When yond same Starre that ' s Westward from the Pole Had made his course t ' illume that part of Heauen Where now it burnes , Marcellus and my selfe , The Bell then beating one Mar . Peace , breake thee of : Enter the Ghost . Looke where it comes againe Barn . In the same figure , like the King that ' s dead Mar . Thou art a Scholler ; speake to it Horatio Barn . Lookes it not like the King ? Marke it Horatio Hora . Most like : It harrowes me with fear & wonder Barn . It would be spoke too Mar . Question it Horatio Hor . What art "
     ]
    }
   ],
   "source": [
    "for word in hamlet[:500]:\n",
    "    print(word, sep=' ', end=' ')"
   ]
  },
  {
   "cell_type": "code",
   "execution_count": 45,
   "id": "4004331f-9de2-4d9c-b27f-803cc928e928",
   "metadata": {},
   "outputs": [],
   "source": [
    "from nltk.tokenize import word_tokenize"
   ]
  },
  {
   "cell_type": "code",
   "execution_count": 46,
   "id": "f7d072f3-b669-4e07-813c-7b64c3b76ef6",
   "metadata": {},
   "outputs": [
    {
     "name": "stderr",
     "output_type": "stream",
     "text": [
      "[nltk_data] Downloading package punkt to\n",
      "[nltk_data]     /Users/katie.kirby/nltk_data...\n",
      "[nltk_data]   Package punkt is already up-to-date!\n"
     ]
    },
    {
     "data": {
      "text/plain": [
       "True"
      ]
     },
     "execution_count": 46,
     "metadata": {},
     "output_type": "execute_result"
    }
   ],
   "source": [
    "nltk.download('punkt')"
   ]
  },
  {
   "cell_type": "code",
   "execution_count": 47,
   "id": "44526ff3-41af-410b-b589-3c150c946565",
   "metadata": {},
   "outputs": [],
   "source": [
    "hamlet_string = \"The Tragedie of Hamlet by William Shakespeare 1599 ] Actus Primus . Scoena Prima . Enter Barnardo and Francisco two Centinels . Barnardo . Who ' s there ? Fran . Nay answer me : Stand & vnfold your selfe Bar . Long liue the King Fran . Barnardo ? Bar . He Fran . You come most carefully vpon your houre Bar . ' Tis now strook twelue , get thee to bed Francisco Fran . For this releefe much thankes : ' Tis bitter cold , And I am sicke at heart Barn . Haue you had quiet Guard ? Fran . Not a Mouse stirring Barn . Well , goodnight . If you do meet Horatio and Marcellus , the Riuals of my Watch , bid them make hast . Enter Horatio and Marcellus . Fran . I thinke I heare them . Stand : who ' s there ? Hor . Friends to this ground Mar . And Leige - men to the Dane Fran . Giue you good night Mar . O farwel honest Soldier , who hath relieu ' d you ? Fra . Barnardo ha ' s my place : giue you goodnight . Exit Fran . Mar . Holla Barnardo Bar . Say , what is Horatio there ? Hor . A peece of him Bar . Welcome Horatio , welcome good Marcellus Mar . What , ha ' s this thing appear ' d againe to night Bar . I haue seene nothing Mar . Horatio saies , ' tis but our Fantasie , And will not let beleefe take hold of him Touching this dreaded sight , twice seene of vs , Therefore I haue intreated him along With vs , to watch the minutes of this Night , That if againe this Apparition come , He may approue our eyes , and speake to it Hor . Tush , tush , ' twill not appeare Bar . Sit downe a - while , And let vs once againe assaile your eares , That are so fortified against our Story , What we two Nights haue seene Hor . Well , sit we downe , And let vs heare Barnardo speake of this Barn . Last night of all , When yond same Starre that ' s Westward from the Pole Had made his course t ' illume that part of Heauen Where now it burnes , Marcellus and my selfe , The Bell then beating one Mar . Peace , breake thee of : Enter the Ghost . Looke where it comes againe Barn . In the same figure , like the King that ' s dead Mar . Thou art a Scholler ; speake to it Horatio Barn . Lookes it not like the King ? Marke it Horatio Hora . Most like : It harrowes me with fear & wonder Barn . It would be spoke too Mar . Question it Horatio Hor . What art\""
   ]
  },
  {
   "cell_type": "code",
   "execution_count": 48,
   "id": "003a06ae-468c-4bba-9104-80c7af0ac66f",
   "metadata": {},
   "outputs": [
    {
     "data": {
      "text/plain": [
       "str"
      ]
     },
     "execution_count": 48,
     "metadata": {},
     "output_type": "execute_result"
    }
   ],
   "source": [
    "type(hamlet_string)"
   ]
  },
  {
   "cell_type": "code",
   "execution_count": 49,
   "id": "f91bbc5f-e3de-4b0b-ad0d-4e9ce0db9768",
   "metadata": {},
   "outputs": [],
   "source": [
    "hamlet_tokens = word_tokenize(hamlet_string)"
   ]
  },
  {
   "cell_type": "code",
   "execution_count": 51,
   "id": "e5f6c1c1-0edd-429b-99af-09ccd37550fd",
   "metadata": {},
   "outputs": [
    {
     "data": {
      "text/plain": [
       "['The',\n",
       " 'Tragedie',\n",
       " 'of',\n",
       " 'Hamlet',\n",
       " 'by',\n",
       " 'William',\n",
       " 'Shakespeare',\n",
       " '1599',\n",
       " ']',\n",
       " 'Actus',\n",
       " 'Primus',\n",
       " '.',\n",
       " 'Scoena',\n",
       " 'Prima',\n",
       " '.',\n",
       " 'Enter',\n",
       " 'Barnardo',\n",
       " 'and',\n",
       " 'Francisco',\n",
       " 'two',\n",
       " 'Centinels',\n",
       " '.',\n",
       " 'Barnardo',\n",
       " '.',\n",
       " 'Who',\n",
       " \"'\",\n",
       " 's',\n",
       " 'there',\n",
       " '?',\n",
       " 'Fran',\n",
       " '.',\n",
       " 'Nay',\n",
       " 'answer',\n",
       " 'me',\n",
       " ':',\n",
       " 'Stand',\n",
       " '&',\n",
       " 'vnfold',\n",
       " 'your',\n",
       " 'selfe',\n",
       " 'Bar',\n",
       " '.',\n",
       " 'Long',\n",
       " 'liue',\n",
       " 'the',\n",
       " 'King',\n",
       " 'Fran',\n",
       " '.',\n",
       " 'Barnardo',\n",
       " '?',\n",
       " 'Bar',\n",
       " '.',\n",
       " 'He',\n",
       " 'Fran',\n",
       " '.',\n",
       " 'You',\n",
       " 'come',\n",
       " 'most',\n",
       " 'carefully',\n",
       " 'vpon',\n",
       " 'your',\n",
       " 'houre',\n",
       " 'Bar',\n",
       " '.',\n",
       " \"'\",\n",
       " 'Tis',\n",
       " 'now',\n",
       " 'strook',\n",
       " 'twelue',\n",
       " ',',\n",
       " 'get',\n",
       " 'thee',\n",
       " 'to',\n",
       " 'bed',\n",
       " 'Francisco',\n",
       " 'Fran',\n",
       " '.',\n",
       " 'For',\n",
       " 'this',\n",
       " 'releefe',\n",
       " 'much',\n",
       " 'thankes',\n",
       " ':',\n",
       " \"'\",\n",
       " 'Tis',\n",
       " 'bitter',\n",
       " 'cold',\n",
       " ',',\n",
       " 'And',\n",
       " 'I',\n",
       " 'am',\n",
       " 'sicke',\n",
       " 'at',\n",
       " 'heart',\n",
       " 'Barn',\n",
       " '.',\n",
       " 'Haue',\n",
       " 'you',\n",
       " 'had',\n",
       " 'quiet',\n",
       " 'Guard',\n",
       " '?',\n",
       " 'Fran',\n",
       " '.',\n",
       " 'Not',\n",
       " 'a',\n",
       " 'Mouse',\n",
       " 'stirring',\n",
       " 'Barn',\n",
       " '.',\n",
       " 'Well',\n",
       " ',',\n",
       " 'goodnight',\n",
       " '.',\n",
       " 'If',\n",
       " 'you',\n",
       " 'do',\n",
       " 'meet',\n",
       " 'Horatio',\n",
       " 'and',\n",
       " 'Marcellus',\n",
       " ',',\n",
       " 'the',\n",
       " 'Riuals',\n",
       " 'of',\n",
       " 'my',\n",
       " 'Watch',\n",
       " ',',\n",
       " 'bid',\n",
       " 'them',\n",
       " 'make',\n",
       " 'hast',\n",
       " '.',\n",
       " 'Enter',\n",
       " 'Horatio',\n",
       " 'and',\n",
       " 'Marcellus',\n",
       " '.',\n",
       " 'Fran',\n",
       " '.',\n",
       " 'I',\n",
       " 'thinke',\n",
       " 'I',\n",
       " 'heare',\n",
       " 'them',\n",
       " '.',\n",
       " 'Stand',\n",
       " ':',\n",
       " 'who',\n",
       " \"'\",\n",
       " 's',\n",
       " 'there',\n",
       " '?',\n",
       " 'Hor',\n",
       " '.',\n",
       " 'Friends',\n",
       " 'to',\n",
       " 'this',\n",
       " 'ground',\n",
       " 'Mar',\n",
       " '.',\n",
       " 'And',\n",
       " 'Leige',\n",
       " '-',\n",
       " 'men',\n",
       " 'to',\n",
       " 'the',\n",
       " 'Dane',\n",
       " 'Fran',\n",
       " '.',\n",
       " 'Giue',\n",
       " 'you',\n",
       " 'good',\n",
       " 'night',\n",
       " 'Mar',\n",
       " '.',\n",
       " 'O',\n",
       " 'farwel',\n",
       " 'honest',\n",
       " 'Soldier',\n",
       " ',',\n",
       " 'who',\n",
       " 'hath',\n",
       " 'relieu',\n",
       " \"'\",\n",
       " 'd',\n",
       " 'you',\n",
       " '?',\n",
       " 'Fra',\n",
       " '.',\n",
       " 'Barnardo',\n",
       " 'ha',\n",
       " \"'\",\n",
       " 's',\n",
       " 'my',\n",
       " 'place',\n",
       " ':',\n",
       " 'giue',\n",
       " 'you',\n",
       " 'goodnight',\n",
       " '.',\n",
       " 'Exit',\n",
       " 'Fran',\n",
       " '.',\n",
       " 'Mar',\n",
       " '.',\n",
       " 'Holla',\n",
       " 'Barnardo',\n",
       " 'Bar',\n",
       " '.',\n",
       " 'Say',\n",
       " ',',\n",
       " 'what',\n",
       " 'is',\n",
       " 'Horatio',\n",
       " 'there',\n",
       " '?',\n",
       " 'Hor',\n",
       " '.',\n",
       " 'A',\n",
       " 'peece',\n",
       " 'of',\n",
       " 'him',\n",
       " 'Bar',\n",
       " '.',\n",
       " 'Welcome',\n",
       " 'Horatio',\n",
       " ',',\n",
       " 'welcome',\n",
       " 'good',\n",
       " 'Marcellus',\n",
       " 'Mar',\n",
       " '.',\n",
       " 'What',\n",
       " ',',\n",
       " 'ha',\n",
       " \"'\",\n",
       " 's',\n",
       " 'this',\n",
       " 'thing',\n",
       " 'appear',\n",
       " \"'\",\n",
       " 'd',\n",
       " 'againe',\n",
       " 'to',\n",
       " 'night',\n",
       " 'Bar',\n",
       " '.',\n",
       " 'I',\n",
       " 'haue',\n",
       " 'seene',\n",
       " 'nothing',\n",
       " 'Mar',\n",
       " '.',\n",
       " 'Horatio',\n",
       " 'saies',\n",
       " ',',\n",
       " \"'\",\n",
       " 'tis',\n",
       " 'but',\n",
       " 'our',\n",
       " 'Fantasie',\n",
       " ',',\n",
       " 'And',\n",
       " 'will',\n",
       " 'not',\n",
       " 'let',\n",
       " 'beleefe',\n",
       " 'take',\n",
       " 'hold',\n",
       " 'of',\n",
       " 'him',\n",
       " 'Touching',\n",
       " 'this',\n",
       " 'dreaded',\n",
       " 'sight',\n",
       " ',',\n",
       " 'twice',\n",
       " 'seene',\n",
       " 'of',\n",
       " 'vs',\n",
       " ',',\n",
       " 'Therefore',\n",
       " 'I',\n",
       " 'haue',\n",
       " 'intreated',\n",
       " 'him',\n",
       " 'along',\n",
       " 'With',\n",
       " 'vs',\n",
       " ',',\n",
       " 'to',\n",
       " 'watch',\n",
       " 'the',\n",
       " 'minutes',\n",
       " 'of',\n",
       " 'this',\n",
       " 'Night',\n",
       " ',',\n",
       " 'That',\n",
       " 'if',\n",
       " 'againe',\n",
       " 'this',\n",
       " 'Apparition',\n",
       " 'come',\n",
       " ',',\n",
       " 'He',\n",
       " 'may',\n",
       " 'approue',\n",
       " 'our',\n",
       " 'eyes',\n",
       " ',',\n",
       " 'and',\n",
       " 'speake',\n",
       " 'to',\n",
       " 'it',\n",
       " 'Hor',\n",
       " '.',\n",
       " 'Tush',\n",
       " ',',\n",
       " 'tush',\n",
       " ',',\n",
       " \"'\",\n",
       " 'twill',\n",
       " 'not',\n",
       " 'appeare',\n",
       " 'Bar',\n",
       " '.',\n",
       " 'Sit',\n",
       " 'downe',\n",
       " 'a',\n",
       " '-',\n",
       " 'while',\n",
       " ',',\n",
       " 'And',\n",
       " 'let',\n",
       " 'vs',\n",
       " 'once',\n",
       " 'againe',\n",
       " 'assaile',\n",
       " 'your',\n",
       " 'eares',\n",
       " ',',\n",
       " 'That',\n",
       " 'are',\n",
       " 'so',\n",
       " 'fortified',\n",
       " 'against',\n",
       " 'our',\n",
       " 'Story',\n",
       " ',',\n",
       " 'What',\n",
       " 'we',\n",
       " 'two',\n",
       " 'Nights',\n",
       " 'haue',\n",
       " 'seene',\n",
       " 'Hor',\n",
       " '.',\n",
       " 'Well',\n",
       " ',',\n",
       " 'sit',\n",
       " 'we',\n",
       " 'downe',\n",
       " ',',\n",
       " 'And',\n",
       " 'let',\n",
       " 'vs',\n",
       " 'heare',\n",
       " 'Barnardo',\n",
       " 'speake',\n",
       " 'of',\n",
       " 'this',\n",
       " 'Barn',\n",
       " '.',\n",
       " 'Last',\n",
       " 'night',\n",
       " 'of',\n",
       " 'all',\n",
       " ',',\n",
       " 'When',\n",
       " 'yond',\n",
       " 'same',\n",
       " 'Starre',\n",
       " 'that',\n",
       " \"'\",\n",
       " 's',\n",
       " 'Westward',\n",
       " 'from',\n",
       " 'the',\n",
       " 'Pole',\n",
       " 'Had',\n",
       " 'made',\n",
       " 'his',\n",
       " 'course',\n",
       " 't',\n",
       " \"'\",\n",
       " 'illume',\n",
       " 'that',\n",
       " 'part',\n",
       " 'of',\n",
       " 'Heauen',\n",
       " 'Where',\n",
       " 'now',\n",
       " 'it',\n",
       " 'burnes',\n",
       " ',',\n",
       " 'Marcellus',\n",
       " 'and',\n",
       " 'my',\n",
       " 'selfe',\n",
       " ',',\n",
       " 'The',\n",
       " 'Bell',\n",
       " 'then',\n",
       " 'beating',\n",
       " 'one',\n",
       " 'Mar',\n",
       " '.',\n",
       " 'Peace',\n",
       " ',',\n",
       " 'breake',\n",
       " 'thee',\n",
       " 'of',\n",
       " ':',\n",
       " 'Enter',\n",
       " 'the',\n",
       " 'Ghost',\n",
       " '.',\n",
       " 'Looke',\n",
       " 'where',\n",
       " 'it',\n",
       " 'comes',\n",
       " 'againe',\n",
       " 'Barn',\n",
       " '.',\n",
       " 'In',\n",
       " 'the',\n",
       " 'same',\n",
       " 'figure',\n",
       " ',',\n",
       " 'like',\n",
       " 'the',\n",
       " 'King',\n",
       " 'that',\n",
       " \"'\",\n",
       " 's',\n",
       " 'dead',\n",
       " 'Mar',\n",
       " '.',\n",
       " 'Thou',\n",
       " 'art',\n",
       " 'a',\n",
       " 'Scholler',\n",
       " ';',\n",
       " 'speake',\n",
       " 'to',\n",
       " 'it',\n",
       " 'Horatio',\n",
       " 'Barn',\n",
       " '.',\n",
       " 'Lookes',\n",
       " 'it',\n",
       " 'not',\n",
       " 'like',\n",
       " 'the',\n",
       " 'King',\n",
       " '?',\n",
       " 'Marke',\n",
       " 'it',\n",
       " 'Horatio',\n",
       " 'Hora',\n",
       " '.',\n",
       " 'Most',\n",
       " 'like',\n",
       " ':',\n",
       " 'It',\n",
       " 'harrowes',\n",
       " 'me',\n",
       " 'with',\n",
       " 'fear',\n",
       " '&',\n",
       " 'wonder',\n",
       " 'Barn',\n",
       " '.',\n",
       " 'It',\n",
       " 'would',\n",
       " 'be',\n",
       " 'spoke',\n",
       " 'too',\n",
       " 'Mar',\n",
       " '.',\n",
       " 'Question',\n",
       " 'it',\n",
       " 'Horatio',\n",
       " 'Hor',\n",
       " '.',\n",
       " 'What',\n",
       " 'art']"
      ]
     },
     "execution_count": 51,
     "metadata": {},
     "output_type": "execute_result"
    }
   ],
   "source": [
    "hamlet_tokens"
   ]
  },
  {
   "cell_type": "code",
   "execution_count": null,
   "id": "0227ffb8-5a64-4186-acdc-f33c83715374",
   "metadata": {},
   "outputs": [],
   "source": [
    "#wc = WordCloud().generate(hamlet_tokens)\n",
    "#plt.imshow(wc)"
   ]
  },
  {
   "cell_type": "code",
   "execution_count": null,
   "id": "4d22497a-7d04-443d-88a7-b43be12ad228",
   "metadata": {},
   "outputs": [],
   "source": [
    "len(hamlet_tokens)"
   ]
  },
  {
   "cell_type": "code",
   "execution_count": 53,
   "id": "1b0d8029-2602-427d-9861-1c14e2bdef52",
   "metadata": {},
   "outputs": [],
   "source": [
    "from nltk.probability import FreqDist\n",
    "fdist = FreqDist()"
   ]
  },
  {
   "cell_type": "code",
   "execution_count": 55,
   "id": "5df8ef9c-961b-495a-b914-b09e98fa4522",
   "metadata": {},
   "outputs": [],
   "source": [
    "for word in hamlet_tokens:\n",
    "    fdist[word.lower()]+=1"
   ]
  },
  {
   "cell_type": "code",
   "execution_count": 56,
   "id": "6aa07686-6f88-409e-9e30-4a29bcf7b258",
   "metadata": {},
   "outputs": [
    {
     "data": {
      "text/plain": [
       "FreqDist({'.': 46, ',': 29, \"'\": 13, 'the': 11, 'of': 10, 'and': 10, 'it': 9, 'fran': 8, 'horatio': 8, 'mar': 8, ...})"
      ]
     },
     "execution_count": 56,
     "metadata": {},
     "output_type": "execute_result"
    }
   ],
   "source": [
    "fdist"
   ]
  },
  {
   "cell_type": "code",
   "execution_count": null,
   "id": "46edf004-209b-437f-b5fb-be2fe023e9a6",
   "metadata": {},
   "outputs": [],
   "source": [
    "from nltk.util import bigrams, trigrams, ngrams"
   ]
  },
  {
   "cell_type": "code",
   "execution_count": 52,
   "id": "3e9d299b-fb62-4f66-b559-0d9b6e8591b6",
   "metadata": {},
   "outputs": [
    {
     "data": {
      "text/plain": [
       "[('The', 'Tragedie'),\n",
       " ('Tragedie', 'of'),\n",
       " ('of', 'Hamlet'),\n",
       " ('Hamlet', 'by'),\n",
       " ('by', 'William'),\n",
       " ('William', 'Shakespeare'),\n",
       " ('Shakespeare', '1599'),\n",
       " ('1599', ']'),\n",
       " (']', 'Actus'),\n",
       " ('Actus', 'Primus'),\n",
       " ('Primus', '.'),\n",
       " ('.', 'Scoena'),\n",
       " ('Scoena', 'Prima'),\n",
       " ('Prima', '.'),\n",
       " ('.', 'Enter'),\n",
       " ('Enter', 'Barnardo'),\n",
       " ('Barnardo', 'and'),\n",
       " ('and', 'Francisco'),\n",
       " ('Francisco', 'two'),\n",
       " ('two', 'Centinels'),\n",
       " ('Centinels', '.'),\n",
       " ('.', 'Barnardo'),\n",
       " ('Barnardo', '.'),\n",
       " ('.', 'Who'),\n",
       " ('Who', \"'\"),\n",
       " (\"'\", 's'),\n",
       " ('s', 'there'),\n",
       " ('there', '?'),\n",
       " ('?', 'Fran'),\n",
       " ('Fran', '.'),\n",
       " ('.', 'Nay'),\n",
       " ('Nay', 'answer'),\n",
       " ('answer', 'me'),\n",
       " ('me', ':'),\n",
       " (':', 'Stand'),\n",
       " ('Stand', '&'),\n",
       " ('&', 'vnfold'),\n",
       " ('vnfold', 'your'),\n",
       " ('your', 'selfe'),\n",
       " ('selfe', 'Bar'),\n",
       " ('Bar', '.'),\n",
       " ('.', 'Long'),\n",
       " ('Long', 'liue'),\n",
       " ('liue', 'the'),\n",
       " ('the', 'King'),\n",
       " ('King', 'Fran'),\n",
       " ('Fran', '.'),\n",
       " ('.', 'Barnardo'),\n",
       " ('Barnardo', '?'),\n",
       " ('?', 'Bar'),\n",
       " ('Bar', '.'),\n",
       " ('.', 'He'),\n",
       " ('He', 'Fran'),\n",
       " ('Fran', '.'),\n",
       " ('.', 'You'),\n",
       " ('You', 'come'),\n",
       " ('come', 'most'),\n",
       " ('most', 'carefully'),\n",
       " ('carefully', 'vpon'),\n",
       " ('vpon', 'your'),\n",
       " ('your', 'houre'),\n",
       " ('houre', 'Bar'),\n",
       " ('Bar', '.'),\n",
       " ('.', \"'\"),\n",
       " (\"'\", 'Tis'),\n",
       " ('Tis', 'now'),\n",
       " ('now', 'strook'),\n",
       " ('strook', 'twelue'),\n",
       " ('twelue', ','),\n",
       " (',', 'get'),\n",
       " ('get', 'thee'),\n",
       " ('thee', 'to'),\n",
       " ('to', 'bed'),\n",
       " ('bed', 'Francisco'),\n",
       " ('Francisco', 'Fran'),\n",
       " ('Fran', '.'),\n",
       " ('.', 'For'),\n",
       " ('For', 'this'),\n",
       " ('this', 'releefe'),\n",
       " ('releefe', 'much'),\n",
       " ('much', 'thankes'),\n",
       " ('thankes', ':'),\n",
       " (':', \"'\"),\n",
       " (\"'\", 'Tis'),\n",
       " ('Tis', 'bitter'),\n",
       " ('bitter', 'cold'),\n",
       " ('cold', ','),\n",
       " (',', 'And'),\n",
       " ('And', 'I'),\n",
       " ('I', 'am'),\n",
       " ('am', 'sicke'),\n",
       " ('sicke', 'at'),\n",
       " ('at', 'heart'),\n",
       " ('heart', 'Barn'),\n",
       " ('Barn', '.'),\n",
       " ('.', 'Haue'),\n",
       " ('Haue', 'you'),\n",
       " ('you', 'had'),\n",
       " ('had', 'quiet'),\n",
       " ('quiet', 'Guard'),\n",
       " ('Guard', '?'),\n",
       " ('?', 'Fran'),\n",
       " ('Fran', '.'),\n",
       " ('.', 'Not'),\n",
       " ('Not', 'a'),\n",
       " ('a', 'Mouse'),\n",
       " ('Mouse', 'stirring'),\n",
       " ('stirring', 'Barn'),\n",
       " ('Barn', '.'),\n",
       " ('.', 'Well'),\n",
       " ('Well', ','),\n",
       " (',', 'goodnight'),\n",
       " ('goodnight', '.'),\n",
       " ('.', 'If'),\n",
       " ('If', 'you'),\n",
       " ('you', 'do'),\n",
       " ('do', 'meet'),\n",
       " ('meet', 'Horatio'),\n",
       " ('Horatio', 'and'),\n",
       " ('and', 'Marcellus'),\n",
       " ('Marcellus', ','),\n",
       " (',', 'the'),\n",
       " ('the', 'Riuals'),\n",
       " ('Riuals', 'of'),\n",
       " ('of', 'my'),\n",
       " ('my', 'Watch'),\n",
       " ('Watch', ','),\n",
       " (',', 'bid'),\n",
       " ('bid', 'them'),\n",
       " ('them', 'make'),\n",
       " ('make', 'hast'),\n",
       " ('hast', '.'),\n",
       " ('.', 'Enter'),\n",
       " ('Enter', 'Horatio'),\n",
       " ('Horatio', 'and'),\n",
       " ('and', 'Marcellus'),\n",
       " ('Marcellus', '.'),\n",
       " ('.', 'Fran'),\n",
       " ('Fran', '.'),\n",
       " ('.', 'I'),\n",
       " ('I', 'thinke'),\n",
       " ('thinke', 'I'),\n",
       " ('I', 'heare'),\n",
       " ('heare', 'them'),\n",
       " ('them', '.'),\n",
       " ('.', 'Stand'),\n",
       " ('Stand', ':'),\n",
       " (':', 'who'),\n",
       " ('who', \"'\"),\n",
       " (\"'\", 's'),\n",
       " ('s', 'there'),\n",
       " ('there', '?'),\n",
       " ('?', 'Hor'),\n",
       " ('Hor', '.'),\n",
       " ('.', 'Friends'),\n",
       " ('Friends', 'to'),\n",
       " ('to', 'this'),\n",
       " ('this', 'ground'),\n",
       " ('ground', 'Mar'),\n",
       " ('Mar', '.'),\n",
       " ('.', 'And'),\n",
       " ('And', 'Leige'),\n",
       " ('Leige', '-'),\n",
       " ('-', 'men'),\n",
       " ('men', 'to'),\n",
       " ('to', 'the'),\n",
       " ('the', 'Dane'),\n",
       " ('Dane', 'Fran'),\n",
       " ('Fran', '.'),\n",
       " ('.', 'Giue'),\n",
       " ('Giue', 'you'),\n",
       " ('you', 'good'),\n",
       " ('good', 'night'),\n",
       " ('night', 'Mar'),\n",
       " ('Mar', '.'),\n",
       " ('.', 'O'),\n",
       " ('O', 'farwel'),\n",
       " ('farwel', 'honest'),\n",
       " ('honest', 'Soldier'),\n",
       " ('Soldier', ','),\n",
       " (',', 'who'),\n",
       " ('who', 'hath'),\n",
       " ('hath', 'relieu'),\n",
       " ('relieu', \"'\"),\n",
       " (\"'\", 'd'),\n",
       " ('d', 'you'),\n",
       " ('you', '?'),\n",
       " ('?', 'Fra'),\n",
       " ('Fra', '.'),\n",
       " ('.', 'Barnardo'),\n",
       " ('Barnardo', 'ha'),\n",
       " ('ha', \"'\"),\n",
       " (\"'\", 's'),\n",
       " ('s', 'my'),\n",
       " ('my', 'place'),\n",
       " ('place', ':'),\n",
       " (':', 'giue'),\n",
       " ('giue', 'you'),\n",
       " ('you', 'goodnight'),\n",
       " ('goodnight', '.'),\n",
       " ('.', 'Exit'),\n",
       " ('Exit', 'Fran'),\n",
       " ('Fran', '.'),\n",
       " ('.', 'Mar'),\n",
       " ('Mar', '.'),\n",
       " ('.', 'Holla'),\n",
       " ('Holla', 'Barnardo'),\n",
       " ('Barnardo', 'Bar'),\n",
       " ('Bar', '.'),\n",
       " ('.', 'Say'),\n",
       " ('Say', ','),\n",
       " (',', 'what'),\n",
       " ('what', 'is'),\n",
       " ('is', 'Horatio'),\n",
       " ('Horatio', 'there'),\n",
       " ('there', '?'),\n",
       " ('?', 'Hor'),\n",
       " ('Hor', '.'),\n",
       " ('.', 'A'),\n",
       " ('A', 'peece'),\n",
       " ('peece', 'of'),\n",
       " ('of', 'him'),\n",
       " ('him', 'Bar'),\n",
       " ('Bar', '.'),\n",
       " ('.', 'Welcome'),\n",
       " ('Welcome', 'Horatio'),\n",
       " ('Horatio', ','),\n",
       " (',', 'welcome'),\n",
       " ('welcome', 'good'),\n",
       " ('good', 'Marcellus'),\n",
       " ('Marcellus', 'Mar'),\n",
       " ('Mar', '.'),\n",
       " ('.', 'What'),\n",
       " ('What', ','),\n",
       " (',', 'ha'),\n",
       " ('ha', \"'\"),\n",
       " (\"'\", 's'),\n",
       " ('s', 'this'),\n",
       " ('this', 'thing'),\n",
       " ('thing', 'appear'),\n",
       " ('appear', \"'\"),\n",
       " (\"'\", 'd'),\n",
       " ('d', 'againe'),\n",
       " ('againe', 'to'),\n",
       " ('to', 'night'),\n",
       " ('night', 'Bar'),\n",
       " ('Bar', '.'),\n",
       " ('.', 'I'),\n",
       " ('I', 'haue'),\n",
       " ('haue', 'seene'),\n",
       " ('seene', 'nothing'),\n",
       " ('nothing', 'Mar'),\n",
       " ('Mar', '.'),\n",
       " ('.', 'Horatio'),\n",
       " ('Horatio', 'saies'),\n",
       " ('saies', ','),\n",
       " (',', \"'\"),\n",
       " (\"'\", 'tis'),\n",
       " ('tis', 'but'),\n",
       " ('but', 'our'),\n",
       " ('our', 'Fantasie'),\n",
       " ('Fantasie', ','),\n",
       " (',', 'And'),\n",
       " ('And', 'will'),\n",
       " ('will', 'not'),\n",
       " ('not', 'let'),\n",
       " ('let', 'beleefe'),\n",
       " ('beleefe', 'take'),\n",
       " ('take', 'hold'),\n",
       " ('hold', 'of'),\n",
       " ('of', 'him'),\n",
       " ('him', 'Touching'),\n",
       " ('Touching', 'this'),\n",
       " ('this', 'dreaded'),\n",
       " ('dreaded', 'sight'),\n",
       " ('sight', ','),\n",
       " (',', 'twice'),\n",
       " ('twice', 'seene'),\n",
       " ('seene', 'of'),\n",
       " ('of', 'vs'),\n",
       " ('vs', ','),\n",
       " (',', 'Therefore'),\n",
       " ('Therefore', 'I'),\n",
       " ('I', 'haue'),\n",
       " ('haue', 'intreated'),\n",
       " ('intreated', 'him'),\n",
       " ('him', 'along'),\n",
       " ('along', 'With'),\n",
       " ('With', 'vs'),\n",
       " ('vs', ','),\n",
       " (',', 'to'),\n",
       " ('to', 'watch'),\n",
       " ('watch', 'the'),\n",
       " ('the', 'minutes'),\n",
       " ('minutes', 'of'),\n",
       " ('of', 'this'),\n",
       " ('this', 'Night'),\n",
       " ('Night', ','),\n",
       " (',', 'That'),\n",
       " ('That', 'if'),\n",
       " ('if', 'againe'),\n",
       " ('againe', 'this'),\n",
       " ('this', 'Apparition'),\n",
       " ('Apparition', 'come'),\n",
       " ('come', ','),\n",
       " (',', 'He'),\n",
       " ('He', 'may'),\n",
       " ('may', 'approue'),\n",
       " ('approue', 'our'),\n",
       " ('our', 'eyes'),\n",
       " ('eyes', ','),\n",
       " (',', 'and'),\n",
       " ('and', 'speake'),\n",
       " ('speake', 'to'),\n",
       " ('to', 'it'),\n",
       " ('it', 'Hor'),\n",
       " ('Hor', '.'),\n",
       " ('.', 'Tush'),\n",
       " ('Tush', ','),\n",
       " (',', 'tush'),\n",
       " ('tush', ','),\n",
       " (',', \"'\"),\n",
       " (\"'\", 'twill'),\n",
       " ('twill', 'not'),\n",
       " ('not', 'appeare'),\n",
       " ('appeare', 'Bar'),\n",
       " ('Bar', '.'),\n",
       " ('.', 'Sit'),\n",
       " ('Sit', 'downe'),\n",
       " ('downe', 'a'),\n",
       " ('a', '-'),\n",
       " ('-', 'while'),\n",
       " ('while', ','),\n",
       " (',', 'And'),\n",
       " ('And', 'let'),\n",
       " ('let', 'vs'),\n",
       " ('vs', 'once'),\n",
       " ('once', 'againe'),\n",
       " ('againe', 'assaile'),\n",
       " ('assaile', 'your'),\n",
       " ('your', 'eares'),\n",
       " ('eares', ','),\n",
       " (',', 'That'),\n",
       " ('That', 'are'),\n",
       " ('are', 'so'),\n",
       " ('so', 'fortified'),\n",
       " ('fortified', 'against'),\n",
       " ('against', 'our'),\n",
       " ('our', 'Story'),\n",
       " ('Story', ','),\n",
       " (',', 'What'),\n",
       " ('What', 'we'),\n",
       " ('we', 'two'),\n",
       " ('two', 'Nights'),\n",
       " ('Nights', 'haue'),\n",
       " ('haue', 'seene'),\n",
       " ('seene', 'Hor'),\n",
       " ('Hor', '.'),\n",
       " ('.', 'Well'),\n",
       " ('Well', ','),\n",
       " (',', 'sit'),\n",
       " ('sit', 'we'),\n",
       " ('we', 'downe'),\n",
       " ('downe', ','),\n",
       " (',', 'And'),\n",
       " ('And', 'let'),\n",
       " ('let', 'vs'),\n",
       " ('vs', 'heare'),\n",
       " ('heare', 'Barnardo'),\n",
       " ('Barnardo', 'speake'),\n",
       " ('speake', 'of'),\n",
       " ('of', 'this'),\n",
       " ('this', 'Barn'),\n",
       " ('Barn', '.'),\n",
       " ('.', 'Last'),\n",
       " ('Last', 'night'),\n",
       " ('night', 'of'),\n",
       " ('of', 'all'),\n",
       " ('all', ','),\n",
       " (',', 'When'),\n",
       " ('When', 'yond'),\n",
       " ('yond', 'same'),\n",
       " ('same', 'Starre'),\n",
       " ('Starre', 'that'),\n",
       " ('that', \"'\"),\n",
       " (\"'\", 's'),\n",
       " ('s', 'Westward'),\n",
       " ('Westward', 'from'),\n",
       " ('from', 'the'),\n",
       " ('the', 'Pole'),\n",
       " ('Pole', 'Had'),\n",
       " ('Had', 'made'),\n",
       " ('made', 'his'),\n",
       " ('his', 'course'),\n",
       " ('course', 't'),\n",
       " ('t', \"'\"),\n",
       " (\"'\", 'illume'),\n",
       " ('illume', 'that'),\n",
       " ('that', 'part'),\n",
       " ('part', 'of'),\n",
       " ('of', 'Heauen'),\n",
       " ('Heauen', 'Where'),\n",
       " ('Where', 'now'),\n",
       " ('now', 'it'),\n",
       " ('it', 'burnes'),\n",
       " ('burnes', ','),\n",
       " (',', 'Marcellus'),\n",
       " ('Marcellus', 'and'),\n",
       " ('and', 'my'),\n",
       " ('my', 'selfe'),\n",
       " ('selfe', ','),\n",
       " (',', 'The'),\n",
       " ('The', 'Bell'),\n",
       " ('Bell', 'then'),\n",
       " ('then', 'beating'),\n",
       " ('beating', 'one'),\n",
       " ('one', 'Mar'),\n",
       " ('Mar', '.'),\n",
       " ('.', 'Peace'),\n",
       " ('Peace', ','),\n",
       " (',', 'breake'),\n",
       " ('breake', 'thee'),\n",
       " ('thee', 'of'),\n",
       " ('of', ':'),\n",
       " (':', 'Enter'),\n",
       " ('Enter', 'the'),\n",
       " ('the', 'Ghost'),\n",
       " ('Ghost', '.'),\n",
       " ('.', 'Looke'),\n",
       " ('Looke', 'where'),\n",
       " ('where', 'it'),\n",
       " ('it', 'comes'),\n",
       " ('comes', 'againe'),\n",
       " ('againe', 'Barn'),\n",
       " ('Barn', '.'),\n",
       " ('.', 'In'),\n",
       " ('In', 'the'),\n",
       " ('the', 'same'),\n",
       " ('same', 'figure'),\n",
       " ('figure', ','),\n",
       " (',', 'like'),\n",
       " ('like', 'the'),\n",
       " ('the', 'King'),\n",
       " ('King', 'that'),\n",
       " ('that', \"'\"),\n",
       " (\"'\", 's'),\n",
       " ('s', 'dead'),\n",
       " ('dead', 'Mar'),\n",
       " ('Mar', '.'),\n",
       " ('.', 'Thou'),\n",
       " ('Thou', 'art'),\n",
       " ('art', 'a'),\n",
       " ('a', 'Scholler'),\n",
       " ('Scholler', ';'),\n",
       " (';', 'speake'),\n",
       " ('speake', 'to'),\n",
       " ('to', 'it'),\n",
       " ('it', 'Horatio'),\n",
       " ('Horatio', 'Barn'),\n",
       " ('Barn', '.'),\n",
       " ('.', 'Lookes'),\n",
       " ('Lookes', 'it'),\n",
       " ('it', 'not'),\n",
       " ('not', 'like'),\n",
       " ('like', 'the'),\n",
       " ('the', 'King'),\n",
       " ('King', '?'),\n",
       " ('?', 'Marke'),\n",
       " ('Marke', 'it'),\n",
       " ('it', 'Horatio'),\n",
       " ('Horatio', 'Hora'),\n",
       " ('Hora', '.'),\n",
       " ('.', 'Most'),\n",
       " ('Most', 'like'),\n",
       " ('like', ':'),\n",
       " (':', 'It'),\n",
       " ('It', 'harrowes'),\n",
       " ('harrowes', 'me'),\n",
       " ('me', 'with'),\n",
       " ('with', 'fear'),\n",
       " ('fear', '&'),\n",
       " ('&', 'wonder'),\n",
       " ('wonder', 'Barn'),\n",
       " ('Barn', '.'),\n",
       " ('.', 'It'),\n",
       " ('It', 'would'),\n",
       " ('would', 'be'),\n",
       " ('be', 'spoke'),\n",
       " ('spoke', 'too'),\n",
       " ('too', 'Mar'),\n",
       " ('Mar', '.'),\n",
       " ('.', 'Question'),\n",
       " ('Question', 'it'),\n",
       " ('it', 'Horatio'),\n",
       " ('Horatio', 'Hor'),\n",
       " ('Hor', '.'),\n",
       " ('.', 'What'),\n",
       " ('What', 'art')]"
      ]
     },
     "execution_count": 52,
     "metadata": {},
     "output_type": "execute_result"
    }
   ],
   "source": [
    "bigrams = list(nltk.bigrams(hamlet_tokens))\n",
    "bigrams"
   ]
  },
  {
   "cell_type": "code",
   "execution_count": 62,
   "id": "7dc35f34-84d9-4b7a-bd35-2eef8d9bc9e2",
   "metadata": {},
   "outputs": [
    {
     "data": {
      "text/plain": [
       "8"
      ]
     },
     "execution_count": 62,
     "metadata": {},
     "output_type": "execute_result"
    }
   ],
   "source": [
    "fdist['horatio']"
   ]
  },
  {
   "cell_type": "markdown",
   "id": "a5ac313a-5d1c-450f-a0b4-8309ce52fb38",
   "metadata": {},
   "source": [
    "len(fdist)"
   ]
  },
  {
   "cell_type": "code",
   "execution_count": 60,
   "id": "313c15e1-5f4a-47d1-8b37-e1d10f322019",
   "metadata": {},
   "outputs": [],
   "source": [
    "fdist_top10 = fdist.most_common(10)"
   ]
  },
  {
   "cell_type": "code",
   "execution_count": 61,
   "id": "bdb60894-146b-4b7c-b72b-cf5abb601aa9",
   "metadata": {},
   "outputs": [
    {
     "data": {
      "text/plain": [
       "[('.', 46),\n",
       " (',', 29),\n",
       " (\"'\", 13),\n",
       " ('the', 11),\n",
       " ('of', 10),\n",
       " ('and', 10),\n",
       " ('it', 9),\n",
       " ('fran', 8),\n",
       " ('horatio', 8),\n",
       " ('mar', 8)]"
      ]
     },
     "execution_count": 61,
     "metadata": {},
     "output_type": "execute_result"
    }
   ],
   "source": [
    "fdist_top10"
   ]
  },
  {
   "cell_type": "code",
   "execution_count": 67,
   "id": "e35057bb-fa51-461a-90e4-9466a1fc08f7",
   "metadata": {},
   "outputs": [
    {
     "ename": "SyntaxError",
     "evalue": "unexpected EOF while parsing (887979738.py, line 2)",
     "output_type": "error",
     "traceback": [
      "\u001b[0;36m  Input \u001b[0;32mIn [67]\u001b[0;36m\u001b[0m\n\u001b[0;31m    word_blank = blankline_tokenize(hamlet)\u001b[0m\n\u001b[0m                                            ^\u001b[0m\n\u001b[0;31mSyntaxError\u001b[0m\u001b[0;31m:\u001b[0m unexpected EOF while parsing\n"
     ]
    }
   ],
   "source": [
    "from nltk.tokenize import blankline_tokenize\n",
    "word_blank = blankline_tokenize((hamlet)"
   ]
  },
  {
   "cell_type": "code",
   "execution_count": null,
   "id": "2fa58698-0da6-4b87-93d2-a488863b8f08",
   "metadata": {},
   "outputs": [],
   "source": []
  }
 ],
 "metadata": {
  "kernelspec": {
   "display_name": "Python 3 (ipykernel)",
   "language": "python",
   "name": "python3"
  },
  "language_info": {
   "codemirror_mode": {
    "name": "ipython",
    "version": 3
   },
   "file_extension": ".py",
   "mimetype": "text/x-python",
   "name": "python",
   "nbconvert_exporter": "python",
   "pygments_lexer": "ipython3",
   "version": "3.9.12"
  }
 },
 "nbformat": 4,
 "nbformat_minor": 5
}
